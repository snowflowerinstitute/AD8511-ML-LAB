{
 "cells": [
  {
   "cell_type": "code",
   "execution_count": null,
   "metadata": {
    "collapsed": true
   },
   "outputs": [],
   "source": [
    "!pip install pandas scikit-learn xgboost"
   ]
  },
  {
   "cell_type": "code",
   "execution_count": 1,
   "metadata": {},
   "outputs": [],
   "source": [
    "import pandas as pd\n",
    "from sklearn.metrics import accuracy_score\n",
    "from sklearn.metrics import f1_score\n",
    "from sklearn.model_selection import train_test_split\n",
    "from xgboost import XGBClassifier"
   ]
  },
  {
   "cell_type": "code",
   "execution_count": 2,
   "metadata": {},
   "outputs": [
    {
     "name": "stdout",
     "output_type": "stream",
     "text": [
      "Total number of Transactions are 275663\n",
      "Number of Normal Transactions are 275190\n",
      "Number of fraudulent Transactions are 473\n",
      "Percentage of fraud Transactions is 17.0%\n"
     ]
    }
   ],
   "source": [
    "data = pd.read_csv(\"datasets/9-fraud-detection.csv\")\n",
    "total_transactions = len(data)\n",
    "normal = len(data[data.Class == 0])\n",
    "fraudulent = len(data[data.Class == 1])\n",
    "fraud_percentage = round(fraudulent / normal * 100, 2)\n",
    "print(f'Total number of Transactions are {total_transactions}')\n",
    "print(f'Number of Normal Transactions are {normal}')\n",
    "print(f'Number of fraudulent Transactions are {fraudulent}')\n",
    "print(f'Percentage of fraud Transactions is {fraud_percentage * 100}%')"
   ]
  },
  {
   "cell_type": "code",
   "execution_count": 3,
   "metadata": {},
   "outputs": [],
   "source": [
    "X = data.drop('Class', axis=1).values\n",
    "y = data['Class'].values\n",
    "X_train, X_test, y_train, y_test = train_test_split(X, y, test_size=0.25, random_state=1)"
   ]
  },
  {
   "cell_type": "code",
   "execution_count": 4,
   "metadata": {},
   "outputs": [
    {
     "name": "stdout",
     "output_type": "stream",
     "text": [
      "Accuracy score of the XGBoost model is 99.95 %\n",
      "F1 score of the XGBoost model is 84.96 %\n"
     ]
    }
   ],
   "source": [
    "xgb = XGBClassifier(max_depth=4)\n",
    "xgb.fit(X_train, y_train)\n",
    "xgb_yhat = xgb.predict(X_test)\n",
    "\n",
    "print(f'Accuracy score of the XGBoost model is {(accuracy_score(y_test, xgb_yhat) * 100):.2f} %')\n",
    "print(f'F1 score of the XGBoost model is {(f1_score(y_test, xgb_yhat) * 100):.2f} %')"
   ]
  }
 ],
 "metadata": {
  "kernelspec": {
   "display_name": "Python 3 (ipykernel)",
   "language": "python",
   "name": "python3"
  },
  "language_info": {
   "codemirror_mode": {
    "name": "ipython",
    "version": 3
   },
   "file_extension": ".py",
   "mimetype": "text/x-python",
   "name": "python",
   "nbconvert_exporter": "python",
   "pygments_lexer": "ipython3",
   "version": "3.10.8"
  }
 },
 "nbformat": 4,
 "nbformat_minor": 1
}
